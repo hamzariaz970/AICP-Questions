{
 "cells": [
  {
   "cell_type": "code",
   "execution_count": 12,
   "metadata": {},
   "outputs": [],
   "source": [
    "import numpy as np"
   ]
  },
  {
   "cell_type": "code",
   "execution_count": 13,
   "metadata": {},
   "outputs": [
    {
     "name": "stdout",
     "output_type": "stream",
     "text": [
      "Even integers from 30 to 70: [30 32 34 36 38 40 42 44 46 48 50 52 54 56 58 60 62 64 66 68 70]\n"
     ]
    }
   ],
   "source": [
    "# Task 1: Creating an array of all even integers from 30 to 70\n",
    "even_integers = np.arange(30, 71, 2)\n",
    "print(\"Even integers from 30 to 70:\", even_integers)\n"
   ]
  },
  {
   "cell_type": "code",
   "execution_count": 14,
   "metadata": {},
   "outputs": [
    {
     "name": "stdout",
     "output_type": "stream",
     "text": [
      "\n",
      "15 random numbers from a standard normal distribution: [ 0.62842259  0.97613665  1.02509361 -1.12667258  0.93011941 -0.29688468\n",
      "  0.43383812 -0.49014491 -1.04467205  1.89620949  0.52014225 -0.34168829\n",
      "  0.19959912 -0.86761767 -0.55931119]\n"
     ]
    }
   ],
   "source": [
    "# Task 2: Generating an array of 15 random numbers from a standard normal distribution\n",
    "random_numbers = np.random.randn(15)\n",
    "\n",
    "print(\"\\n15 random numbers from a standard normal distribution:\", random_numbers)"
   ]
  },
  {
   "cell_type": "code",
   "execution_count": 15,
   "metadata": {},
   "outputs": [
    {
     "name": "stdout",
     "output_type": "stream",
     "text": [
      "\n",
      "Cross-product of two matrices A and B:\n",
      " [[-6 12 -6]\n",
      " [-6 12 -6]]\n"
     ]
    }
   ],
   "source": [
    "# Task 3: Computing the cross-product of two matrices\n",
    "A = np.array([[1, 2, 3], [4, 5, 6]])\n",
    "B = np.array([[7, 8, 9], [10, 11, 12]])\n",
    "cross_product = np.cross(A, B)\n",
    "\n",
    "print(\"\\nCross-product of two matrices A and B:\\n\", cross_product)"
   ]
  },
  {
   "cell_type": "code",
   "execution_count": 16,
   "metadata": {},
   "outputs": [
    {
     "name": "stdout",
     "output_type": "stream",
     "text": [
      "\n",
      "Determinant of matrix C: -2.0000000000000004\n"
     ]
    }
   ],
   "source": [
    "# Task 4: Computing the determinant of an array\n",
    "C = np.array([[1, 2], [3, 4]])\n",
    "determinant = np.linalg.det(C)\n",
    "\n",
    "print(\"\\nDeterminant of matrix C:\", determinant)"
   ]
  },
  {
   "cell_type": "code",
   "execution_count": 17,
   "metadata": {},
   "outputs": [
    {
     "name": "stdout",
     "output_type": "stream",
     "text": [
      "\n",
      "3x3x3 array with random values:\n",
      " [[[0.99154933 0.01374524 0.52279563]\n",
      "  [0.7984331  0.58060342 0.23019058]\n",
      "  [0.77031882 0.84755795 0.04583965]]\n",
      "\n",
      " [[0.94658563 0.80511925 0.33901428]\n",
      "  [0.72119189 0.84919441 0.16852116]\n",
      "  [0.1042052  0.70786989 0.91914195]]\n",
      "\n",
      " [[0.4042961  0.97100284 0.25643027]\n",
      "  [0.31297753 0.32623052 0.12780328]\n",
      "  [0.08018683 0.4243916  0.21268956]]]\n"
     ]
    }
   ],
   "source": [
    "# Task 5: Creating a 3x3x3 array with random values\n",
    "random_array_3x3x3 = np.random.random((3, 3, 3))\n",
    "print(\"\\n3x3x3 array with random values:\\n\", random_array_3x3x3)"
   ]
  },
  {
   "cell_type": "code",
   "execution_count": 18,
   "metadata": {},
   "outputs": [
    {
     "name": "stdout",
     "output_type": "stream",
     "text": [
      "\n",
      "5x5 array with random values:\n",
      " [[0.3708216  0.44008947 0.66464103 0.94338836 0.30913395]\n",
      " [0.94551004 0.39223914 0.85898485 0.019375   0.81088865]\n",
      " [0.9205811  0.03906136 0.12021298 0.17390754 0.30257247]\n",
      " [0.27443887 0.11079151 0.38987446 0.6477001  0.50518172]\n",
      " [0.49988427 0.00962736 0.30434503 0.6727192  0.09153327]]\n",
      "Minimum value in the 5x5 array: 0.00962736261806496\n",
      "Maximum value in the 5x5 array: 0.9455100446311405\n"
     ]
    }
   ],
   "source": [
    "# Task 6: Creating a 5x5 array with random values and find the minimum and maximum values\n",
    "random_array_5x5 = np.random.random((5, 5))\n",
    "min_value = random_array_5x5.min()\n",
    "max_value = random_array_5x5.max()\n",
    "\n",
    "\n",
    "print(\"\\n5x5 array with random values:\\n\", random_array_5x5)\n",
    "print(\"Minimum value in the 5x5 array:\", min_value)\n",
    "print(\"Maximum value in the 5x5 array:\", max_value)"
   ]
  },
  {
   "cell_type": "code",
   "execution_count": 19,
   "metadata": {},
   "outputs": [
    {
     "name": "stdout",
     "output_type": "stream",
     "text": [
      "\n",
      "Sample array:\n",
      " [[0.68223066 0.92862306 0.35660389 0.52710541]\n",
      " [0.48281834 0.01673956 0.8098209  0.33274994]\n",
      " [0.29083333 0.08459697 0.35145667 0.59340322]]\n",
      "Mean along the second axis: [0.62364076 0.41053219 0.33007255]\n",
      "Standard deviation along the second axis: [0.21040125 0.28538547 0.1813824 ]\n",
      "Variance along the second axis: [0.04426869 0.08144487 0.03289958]\n"
     ]
    }
   ],
   "source": [
    "# Task 7: Computing the mean, standard deviation, and variance of a given array along the second axis\n",
    "sample_array = np.random.rand(3, 4)\n",
    "mean_array = sample_array.mean(axis=1)\n",
    "std_dev_array = sample_array.std(axis=1)\n",
    "variance_array = sample_array.var(axis=1)\n",
    "\n",
    "print(\"\\nSample array:\\n\", sample_array)\n",
    "print(\"Mean along the second axis:\", mean_array)\n",
    "print(\"Standard deviation along the second axis:\", std_dev_array)\n",
    "print(\"Variance along the second axis:\", variance_array)"
   ]
  },
  {
   "cell_type": "code",
   "execution_count": null,
   "metadata": {},
   "outputs": [],
   "source": []
  }
 ],
 "metadata": {
  "kernelspec": {
   "display_name": "Python 3",
   "language": "python",
   "name": "python3"
  },
  "language_info": {
   "codemirror_mode": {
    "name": "ipython",
    "version": 3
   },
   "file_extension": ".py",
   "mimetype": "text/x-python",
   "name": "python",
   "nbconvert_exporter": "python",
   "pygments_lexer": "ipython3",
   "version": "3.10.6"
  }
 },
 "nbformat": 4,
 "nbformat_minor": 2
}
